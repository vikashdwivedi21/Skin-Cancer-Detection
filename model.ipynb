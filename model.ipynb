{
  "nbformat": 4,
  "nbformat_minor": 0,
  "metadata": {
    "colab": {
      "provenance": []
    },
    "kernelspec": {
      "name": "python3",
      "display_name": "Python 3"
    },
    "language_info": {
      "name": "python"
    },
    "accelerator": "TPU"
  },
  "cells": [
    {
      "cell_type": "code",
      "execution_count": 1,
      "metadata": {
        "colab": {
          "base_uri": "https://localhost:8080/"
        },
        "id": "DfqOX-NvTUx4",
        "outputId": "7b7b1150-db26-49de-bd07-d92a6a3d4a4b"
      },
      "outputs": [
        {
          "output_type": "stream",
          "name": "stdout",
          "text": [
            "fatal: destination path 'Skin-Cancer-Detection' already exists and is not an empty directory.\n"
          ]
        }
      ],
      "source": [
        "!git clone https://github.com/vikashdwivedi21/Skin-Cancer-Detection"
      ]
    },
    {
      "cell_type": "code",
      "source": [
        "!mkdir ~/.kaggle"
      ],
      "metadata": {
        "colab": {
          "base_uri": "https://localhost:8080/"
        },
        "id": "GA4f2Rk8TtlA",
        "outputId": "26270ca6-5531-4f02-9f5e-e9d9f4c76b5a"
      },
      "execution_count": 2,
      "outputs": [
        {
          "output_type": "stream",
          "name": "stdout",
          "text": [
            "mkdir: cannot create directory ‘/root/.kaggle’: File exists\n"
          ]
        }
      ]
    },
    {
      "cell_type": "code",
      "source": [
        "!cp kaggle.json ~/.kaggle/\n",
        "!chmod 600 ~/.kaggle/kaggle.json\n",
        "!kaggle datasets download -d farjanakabirsamanta/skin-cancer-dataset"
      ],
      "metadata": {
        "colab": {
          "base_uri": "https://localhost:8080/"
        },
        "id": "aIh7SJTATuZK",
        "outputId": "6bd7d40c-d02d-416d-f429-ea282002fbf5"
      },
      "execution_count": 3,
      "outputs": [
        {
          "output_type": "stream",
          "name": "stdout",
          "text": [
            "skin-cancer-dataset.zip: Skipping, found more recently modified local copy (use --force to force download)\n"
          ]
        }
      ]
    },
    {
      "cell_type": "code",
      "source": [
        "import zipfile\n",
        "with zipfile.ZipFile('skin-cancer-dataset.zip', 'r') as zip_ref:\n",
        "    zip_ref.extractall('skin-cancer-dataset')"
      ],
      "metadata": {
        "id": "AT5VYw3DQgyA"
      },
      "execution_count": 4,
      "outputs": []
    },
    {
      "cell_type": "code",
      "source": [
        "import os\n",
        "import numpy as np\n",
        "from skimage.transform import resize\n",
        "from skimage import io\n",
        "\n",
        "\n",
        "data_path = 'skin-cancer-dataset'\n",
        "\n",
        "\n",
        "\n",
        "\n",
        "images = []\n",
        "labels = []\n",
        "\n",
        "counter = 0\n",
        "\n",
        "\n",
        "for dirname, _, filenames in os.walk(data_path):\n",
        "    for filename in filenames:\n",
        "        if counter >= target_dataset_size:\n",
        "            break\n",
        "        if filename.endswith('.jpg'):\n",
        "            img = io.imread(os.path.join(dirname, filename))\n",
        "\n",
        "            img = resize(img, (128, 128, 3), anti_aliasing=True)\n",
        "            images.append(img)\n",
        "            labels.append(os.path.basename(dirname))\n",
        "            counter += 1\n",
        "\n",
        "\n",
        "images = np.array(images)\n",
        "labels = np.array(labels)\n",
        "\n",
        "\n",
        "images = images / 255.0\n",
        "\n",
        "\n",
        "print(\"Data type of y_train:\", type(y_train))\n",
        "print(\"Shape of y_train:\", y_train.shape)\n",
        "print(\"Data type of y_test:\", type(y_test))\n",
        "print(\"Shape of y_test:\", y_test.shape)\n",
        "\n",
        "\n",
        "from sklearn.model_selection import train_test_split\n",
        "X_train, X_test, y_train, y_test = train_test_split(images, labels, test_size=0.2, random_state=42)\n",
        "\n",
        "\n"
      ],
      "metadata": {
        "id": "wAnunz_-RIeZ",
        "colab": {
          "base_uri": "https://localhost:8080/"
        },
        "outputId": "22eee2cc-6256-414c-b7aa-694d244cad8c"
      },
      "execution_count": 39,
      "outputs": [
        {
          "output_type": "stream",
          "name": "stdout",
          "text": [
            "Data type of y_train: <class 'numpy.ndarray'>\n",
            "Shape of y_train: (80,)\n",
            "Data type of y_test: <class 'numpy.ndarray'>\n",
            "Shape of y_test: (20,)\n"
          ]
        }
      ]
    },
    {
      "cell_type": "code",
      "source": [
        "from keras.preprocessing.image import ImageDataGenerator\n",
        "import os\n",
        "\n",
        "\n",
        "data_path = 'skin-cancer-dataset'\n",
        "\n",
        "\n",
        "images_list = [os.path.join(data_path, file) for file in os.listdir(data_path) if file.endswith('.jpg')][:100]\n",
        "\n",
        "# Create an ImageDataGenerator instance\n",
        "datagen = ImageDataGenerator(\n",
        "    rotation_range=40,\n",
        "    width_shift_range=0.2,\n",
        "    height_shift_range=0.2,\n",
        "    shear_range=0.2,\n",
        "    zoom_range=0.2,\n",
        "    horizontal_flip=True,\n",
        "    fill_mode='nearest')\n",
        "\n",
        "\n",
        "for img_path in images_list:\n",
        "    img = load_img(img_path)  # Assuming you have a load_img function to load images\n",
        "    x = img_to_array(img)\n",
        "    x = x.reshape((1,) + x.shape)\n",
        "\n",
        "    # Generate augmented images\n",
        "    i = 0\n",
        "    for batch in datagen.flow(x, batch_size=1, save_to_dir='preview', save_prefix='aug', save_format='jpeg'):\n",
        "        i += 1\n",
        "        if i > 5:\n",
        "            break\n"
      ],
      "metadata": {
        "id": "okOH-wrHaGUM"
      },
      "execution_count": 40,
      "outputs": []
    },
    {
      "cell_type": "code",
      "source": [
        "from sklearn.preprocessing import LabelEncoder\n",
        "\n",
        "\n",
        "label_encoder = LabelEncoder()\n",
        "y_train = label_encoder.fit_transform(y_train)\n",
        "y_test = label_encoder.transform(y_test)\n",
        "\n",
        "\n",
        "history = model.fit(X_train, y_train, batch_size=16, epochs=10, validation_split=0.1)\n",
        "\n",
        "\n",
        "evaluation = model.evaluate(X_test, y_test, verbose=2)\n",
        "\n",
        "\n",
        "print(\"Test Loss:\", evaluation[0])\n",
        "print(\"Test Accuracy:\", evaluation[1])\n",
        "\n"
      ],
      "metadata": {
        "colab": {
          "base_uri": "https://localhost:8080/"
        },
        "id": "D4eOxyiXaXXx",
        "outputId": "228c7ccd-c112-44b8-efc7-e5786caf5835"
      },
      "execution_count": 42,
      "outputs": [
        {
          "output_type": "stream",
          "name": "stdout",
          "text": [
            "Epoch 1/10\n",
            "5/5 [==============================] - 5s 865ms/step - loss: 0.0000e+00 - accuracy: 1.0000 - val_loss: 0.0000e+00 - val_accuracy: 1.0000\n",
            "Epoch 2/10\n",
            "5/5 [==============================] - 6s 1s/step - loss: 0.0000e+00 - accuracy: 1.0000 - val_loss: 0.0000e+00 - val_accuracy: 1.0000\n",
            "Epoch 3/10\n",
            "5/5 [==============================] - 4s 793ms/step - loss: 0.0000e+00 - accuracy: 1.0000 - val_loss: 0.0000e+00 - val_accuracy: 1.0000\n",
            "Epoch 4/10\n",
            "5/5 [==============================] - 2s 472ms/step - loss: 0.0000e+00 - accuracy: 1.0000 - val_loss: 0.0000e+00 - val_accuracy: 1.0000\n",
            "Epoch 5/10\n",
            "5/5 [==============================] - 2s 475ms/step - loss: 0.0000e+00 - accuracy: 1.0000 - val_loss: 0.0000e+00 - val_accuracy: 1.0000\n",
            "Epoch 6/10\n",
            "5/5 [==============================] - 2s 489ms/step - loss: 0.0000e+00 - accuracy: 1.0000 - val_loss: 0.0000e+00 - val_accuracy: 1.0000\n",
            "Epoch 7/10\n",
            "5/5 [==============================] - 2s 492ms/step - loss: 0.0000e+00 - accuracy: 1.0000 - val_loss: 0.0000e+00 - val_accuracy: 1.0000\n",
            "Epoch 8/10\n",
            "5/5 [==============================] - 4s 865ms/step - loss: 0.0000e+00 - accuracy: 1.0000 - val_loss: 0.0000e+00 - val_accuracy: 1.0000\n",
            "Epoch 9/10\n",
            "5/5 [==============================] - 4s 806ms/step - loss: 0.0000e+00 - accuracy: 1.0000 - val_loss: 0.0000e+00 - val_accuracy: 1.0000\n",
            "Epoch 10/10\n",
            "5/5 [==============================] - 3s 539ms/step - loss: 0.0000e+00 - accuracy: 1.0000 - val_loss: 0.0000e+00 - val_accuracy: 1.0000\n",
            "1/1 - 0s - loss: 0.0000e+00 - accuracy: 1.0000 - 181ms/epoch - 181ms/step\n",
            "Test Loss: 0.0\n",
            "Test Accuracy: 1.0\n"
          ]
        }
      ]
    },
    {
      "cell_type": "code",
      "source": [
        "import numpy as np\n",
        "\n",
        "\n",
        "y_pred_reshaped = np.squeeze(y_pred)\n",
        "\n",
        "from sklearn.metrics import accuracy_score, precision_score, recall_score, f1_score, roc_auc_score\n",
        "\n",
        "print(\"Accuracy:\", accuracy_score(y_test, y_pred_reshaped))\n",
        "print(\"Precision:\", precision_score(y_test, y_pred_reshaped))\n",
        "print(\"Recall:\", recall_score(y_test, y_pred_reshaped))\n",
        "print(\"F1 Score:\", f1_score(y_test, y_pred_reshaped))\n",
        "\n",
        "\n"
      ],
      "metadata": {
        "colab": {
          "base_uri": "https://localhost:8080/"
        },
        "id": "FLaY7hnudiiF",
        "outputId": "d7b99300-209d-4d11-b998-59e8e066178a"
      },
      "execution_count": 43,
      "outputs": [
        {
          "output_type": "stream",
          "name": "stdout",
          "text": [
            "Accuracy: 1.0\n",
            "Precision: 0.0\n",
            "Recall: 0.0\n",
            "F1 Score: 0.0\n"
          ]
        },
        {
          "output_type": "stream",
          "name": "stderr",
          "text": [
            "/usr/local/lib/python3.10/dist-packages/sklearn/metrics/_classification.py:1344: UndefinedMetricWarning: Precision is ill-defined and being set to 0.0 due to no predicted samples. Use `zero_division` parameter to control this behavior.\n",
            "  _warn_prf(average, modifier, msg_start, len(result))\n",
            "/usr/local/lib/python3.10/dist-packages/sklearn/metrics/_classification.py:1344: UndefinedMetricWarning: Recall is ill-defined and being set to 0.0 due to no true samples. Use `zero_division` parameter to control this behavior.\n",
            "  _warn_prf(average, modifier, msg_start, len(result))\n",
            "/usr/local/lib/python3.10/dist-packages/sklearn/metrics/_classification.py:1609: UndefinedMetricWarning: F-score is ill-defined and being set to 0.0 due to no true nor predicted samples. Use `zero_division` parameter to control this behavior.\n",
            "  _warn_prf(average, \"true nor predicted\", \"F-score is\", len(true_sum))\n"
          ]
        }
      ]
    },
    {
      "cell_type": "code",
      "source": [],
      "metadata": {
        "id": "xzz9d52XfeYr"
      },
      "execution_count": null,
      "outputs": []
    }
  ]
}